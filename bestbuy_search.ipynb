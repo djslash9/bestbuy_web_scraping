{
 "cells": [
  {
   "cell_type": "code",
   "execution_count": 1,
   "metadata": {},
   "outputs": [],
   "source": [
    "import requests\n",
    "import json\n",
    "import pandas as pd"
   ]
  },
  {
   "cell_type": "code",
   "execution_count": 10,
   "metadata": {},
   "outputs": [],
   "source": [
    "# Set your API key\n",
    "api_key = \"key\"\n",
    "\n",
    "# Set the SKU of the product you want to find\n",
    "sku = \"6340256\"\n",
    "\n",
    "# Set the API endpoint\n",
    "url = f\"https://api.bestbuy.com/v1/products(sku={sku})?apiKey={api_key}&format=json\""
   ]
  },
  {
   "cell_type": "code",
   "execution_count": 11,
   "metadata": {},
   "outputs": [],
   "source": [
    "# Send a GET request to the API endpoint\n",
    "response = requests.get(url)"
   ]
  },
  {
   "cell_type": "code",
   "execution_count": 12,
   "metadata": {},
   "outputs": [
    {
     "data": {
      "text/html": [
       "<div>\n",
       "<style scoped>\n",
       "    .dataframe tbody tr th:only-of-type {\n",
       "        vertical-align: middle;\n",
       "    }\n",
       "\n",
       "    .dataframe tbody tr th {\n",
       "        vertical-align: top;\n",
       "    }\n",
       "\n",
       "    .dataframe thead th {\n",
       "        text-align: right;\n",
       "    }\n",
       "</style>\n",
       "<table border=\"1\" class=\"dataframe\">\n",
       "  <thead>\n",
       "    <tr style=\"text-align: right;\">\n",
       "      <th></th>\n",
       "      <th>from</th>\n",
       "      <th>to</th>\n",
       "      <th>currentPage</th>\n",
       "      <th>total</th>\n",
       "      <th>totalPages</th>\n",
       "      <th>queryTime</th>\n",
       "      <th>totalTime</th>\n",
       "      <th>partial</th>\n",
       "      <th>canonicalUrl</th>\n",
       "      <th>products</th>\n",
       "    </tr>\n",
       "  </thead>\n",
       "  <tbody>\n",
       "    <tr>\n",
       "      <th>0</th>\n",
       "      <td>1</td>\n",
       "      <td>1</td>\n",
       "      <td>1</td>\n",
       "      <td>1</td>\n",
       "      <td>1</td>\n",
       "      <td>0.010</td>\n",
       "      <td>0.017</td>\n",
       "      <td>False</td>\n",
       "      <td>/v1/products(sku=6340256)?format=json&amp;apiKey=s...</td>\n",
       "      <td>{'sku': 6340256, 'score': None, 'productId': N...</td>\n",
       "    </tr>\n",
       "  </tbody>\n",
       "</table>\n",
       "</div>"
      ],
      "text/plain": [
       "   from  to  currentPage  total  totalPages queryTime totalTime  partial  \\\n",
       "0     1   1            1      1           1     0.010     0.017    False   \n",
       "\n",
       "                                        canonicalUrl  \\\n",
       "0  /v1/products(sku=6340256)?format=json&apiKey=s...   \n",
       "\n",
       "                                            products  \n",
       "0  {'sku': 6340256, 'score': None, 'productId': N...  "
      ]
     },
     "execution_count": 12,
     "metadata": {},
     "output_type": "execute_result"
    }
   ],
   "source": [
    "data = json.loads(response.text)\n",
    "df = pd.DataFrame(data)\n",
    "df"
   ]
  },
  {
   "cell_type": "code",
   "execution_count": 14,
   "metadata": {},
   "outputs": [
    {
     "name": "stdout",
     "output_type": "stream",
     "text": [
      "Product name: Apple Watch Series 8 (GPS) 45mm Aluminum Case with Midnight Sport Band - M/L - Midnight\n",
      "Price: 429.0\n"
     ]
    }
   ],
   "source": [
    "# If the request was successful, print the product information\n",
    "if response.status_code == 200:\n",
    "    product_info = response.json()[\"products\"][0]\n",
    "    print(f\"Product name: {product_info['name']}\")\n",
    "    print(f\"Price: {product_info['regularPrice']}\")\n",
    "else:\n",
    "    print(\"Error: Unable to find product\")"
   ]
  }
 ],
 "metadata": {
  "kernelspec": {
   "display_name": "Python 3",
   "language": "python",
   "name": "python3"
  },
  "language_info": {
   "codemirror_mode": {
    "name": "ipython",
    "version": 3
   },
   "file_extension": ".py",
   "mimetype": "text/x-python",
   "name": "python",
   "nbconvert_exporter": "python",
   "pygments_lexer": "ipython3",
   "version": "3.11.2"
  },
  "orig_nbformat": 4
 },
 "nbformat": 4,
 "nbformat_minor": 2
}
